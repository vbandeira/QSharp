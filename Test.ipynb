{
 "cells": [
  {
   "cell_type": "code",
   "execution_count": 2,
   "metadata": {},
   "outputs": [
    {
     "data": {
      "application/json": "[\"Set\"]",
      "text/html": [
       "<ul><li>Set</li></ul>"
      ],
      "text/plain": [
       "Set"
      ]
     },
     "execution_count": 2,
     "metadata": {},
     "output_type": "execute_result"
    }
   ],
   "source": [
    "operation Set (desired: Result, q1: Qubit): Unit {\n",
    "    if (desired != M(q1)) {\n",
    "        X(q1);\n",
    "    }\n",
    "}"
   ]
  },
  {
   "cell_type": "code",
   "execution_count": 6,
   "metadata": {},
   "outputs": [
    {
     "data": {
      "application/json": "[\"Random\"]",
      "text/html": [
       "<ul><li>Random</li></ul>"
      ],
      "text/plain": [
       "Random"
      ]
     },
     "execution_count": 6,
     "metadata": {},
     "output_type": "execute_result"
    }
   ],
   "source": [
    "operation Random() : Int {\n",
    "    using (q = Qubit()) {\n",
    "        Set(Zero, q);\n",
    "        H(q);\n",
    "        let res = M(q);\n",
    "        Set(Zero, q);\n",
    "        if (res == Zero) {\n",
    "            return 0;\n",
    "        } else {\n",
    "            return 1;\n",
    "        }\n",
    "    }\n",
    "}"
   ]
  },
  {
   "cell_type": "code",
   "execution_count": 40,
   "metadata": {},
   "outputs": [
    {
     "data": {
      "application/json": "0",
      "text/plain": [
       "0"
      ]
     },
     "execution_count": 40,
     "metadata": {},
     "output_type": "execute_result"
    }
   ],
   "source": [
    "%simulate Random"
   ]
  }
 ],
 "metadata": {
  "kernelspec": {
   "display_name": "Q#",
   "language": "qsharp",
   "name": "iqsharp"
  },
  "language_info": {
   "file_extension": ".qs",
   "mimetype": "text/x-qsharp",
   "name": "qsharp",
   "version": "0.4"
  }
 },
 "nbformat": 4,
 "nbformat_minor": 2
}
